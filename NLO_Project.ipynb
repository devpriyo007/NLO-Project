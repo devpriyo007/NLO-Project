{
 "cells": [
  {
   "cell_type": "code",
   "execution_count": 1,
   "id": "julian-adjustment",
   "metadata": {},
   "outputs": [],
   "source": [
    "import gurobipy as gp\n",
    "import numpy as np\n",
    "import math\n",
    "from numpy import random"
   ]
  },
  {
   "cell_type": "code",
   "execution_count": 2,
   "id": "inappropriate-television",
   "metadata": {},
   "outputs": [],
   "source": [
    "def SLMFNE(size_of_action_space):\n",
    "    m = size_of_action_space\n",
    "    max_val = 100\n",
    "    U1 = random.randint(max_val, size=(m,m,m))\n",
    "    U2 = random.randint(max_val, size=(m,m,m))\n",
    "    U3 = random.randint(max_val, size=(m,m,m))\n",
    "\n",
    "    #Defining Dictionaries for various variables\n",
    "    y13 = {}\n",
    "    y23 = {}\n",
    "    z = {}\n",
    "    x1 = {}\n",
    "    x2 = {}\n",
    "    x3 = {}\n",
    "    s1 = {}\n",
    "    s2 = {}\n",
    "    \n",
    "    \n",
    "    M = gp.Model()\n",
    "\n",
    "    #Adding all the variables\n",
    "\n",
    "    for i in range(m):\n",
    "        s1[i] = M.addVar(vtype = gp.GRB.BINARY, name = \"s1\"+str(i))\n",
    "        s2[i] = M.addVar(vtype = gp.GRB.BINARY, name = \"s2\"+str(i))\n",
    "        x1[i] = M.addVar(lb = 0, vtype = gp.GRB.CONTINUOUS, name = \"x1\"+str(i))\n",
    "        for j in range(m):\n",
    "            y13[i,j] = M.addVar(lb = 0, ub = 1, vtype = gp.GRB.CONTINUOUS, name = \"y13\"+str(i)+'_'+str(j))\n",
    "            x2[j] = M.addVar(lb = 0, vtype = gp.GRB.CONTINUOUS, name = \"x2\"+str(j))\n",
    "            for k in range(m):\n",
    "                y23[j,k] = M.addVar(lb = 0, ub = 1, vtype = gp.GRB.CONTINUOUS, name = \"y23\"+str(j)+'_'+str(k))\n",
    "                z[i,j,k] = M.addVar(lb = 0, ub = 1, vtype = gp.GRB.CONTINUOUS, name = \"z\"+str(i)+'_'+str(j)+'_'+str(k))\n",
    "                x3[k] = M.addVar(lb = 0, vtype = gp.GRB.CONTINUOUS, name = \"x3\"+str(k))\n",
    "            \n",
    "    v1 = M.addVar(lb = -gp.GRB.INFINITY, ub = gp.GRB.INFINITY, vtype = gp.GRB.CONTINUOUS)\n",
    "    v2 = M.addVar(lb = -gp.GRB.INFINITY, ub = gp.GRB.INFINITY, vtype = gp.GRB.CONTINUOUS)\n",
    "\n",
    "    BigM = 10000000000\n",
    "    \n",
    "    #Objective Function\n",
    "\n",
    "    M.setObjective(gp.quicksum(U3[i,j,k]*z[i,j,k] for i in range(m) for j in range(m) for k in range(m)), sense = gp.GRB.MAXIMIZE)\n",
    "\n",
    "    #Constraints\n",
    "\n",
    "    M.addConstr(gp.quicksum(y13[i,k] for i in range(m) for j in range(m))==1)\n",
    "    M.addConstr(gp.quicksum(y23[j,k] for j in range(m) for k in range(m))==1)\n",
    "    M.addConstr(gp.quicksum(z[i,j,k] for i in range(m) for j in range(m) for k in range(m))==1)\n",
    "\n",
    "    M.addConstr(gp.quicksum(x1[i] for i in range(m))==1)\n",
    "    M.addConstr(gp.quicksum(x2[j] for j in range(m))==1)\n",
    "    M.addConstr(gp.quicksum(x3[k] for k in range(m))==1)\n",
    "\n",
    "    for i in range(m):\n",
    "        M.addConstr(v1 - gp.quicksum(U1[i,j,k]*y23[j,k] for j in range(m) for k in range(m))<=BigM*s1[i])\n",
    "        M.addConstr(x1[i]<=1-s1[i])\n",
    "        M.addConstr(v1 >= gp.quicksum(U1[i,j,k]*y23[j,k] for j in range(m) for k in range(m)))\n",
    "        for k in range(m):\n",
    "            M.addConstr(y13[i,k]==x1[i]*x3[k])\n",
    "        \n",
    "    for j in range(m):\n",
    "        M.addConstr(v2 - gp.quicksum(U2[i,j,k]*y13[i,k] for i in range(m) for k in range(m))<=BigM*s1[i])\n",
    "        M.addConstr(x2[j]<=1-s2[j])\n",
    "        M.addConstr(v2 >= gp.quicksum(U2[i,j,k]*y13[i,k] for i in range(m) for k in range(m)))\n",
    "        for k in range(m):\n",
    "            M.addConstr(y23[j,k]==x2[j]*x3[k])\n",
    "\n",
    "    M.addConstrs(z[i,j,k]==x1[i]*y23[j,k] for i in range(m) for j in range(m) for k in range(m))\n",
    "    M.update()\n",
    "    \n",
    "    M.params.NonConvex = 2\n",
    "    M.Params.OutputFlag = 0\n",
    "    M.optimize()\n",
    "    print(\"(Optimal value, Runtime, Optimality Gap)\", M.objVal, M.Runtime, M.MIPGap)"
   ]
  },
  {
   "cell_type": "code",
   "execution_count": null,
   "id": "figured-shopper",
   "metadata": {},
   "outputs": [
    {
     "name": "stdout",
     "output_type": "stream",
     "text": [
      "Changed value of parameter NonConvex to 2\n",
      "   Prev: -1  Min: -1  Max: 2  Default: -1\n",
      "(Optimal value, Runtime, Optimality Gap) 85.69350961538461 0.1884899139404297 0.0\n",
      "Changed value of parameter NonConvex to 2\n",
      "   Prev: -1  Min: -1  Max: 2  Default: -1\n",
      "(Optimal value, Runtime, Optimality Gap) 83.81388888888894 1.4721870422363281 0.0\n",
      "Changed value of parameter NonConvex to 2\n",
      "   Prev: -1  Min: -1  Max: 2  Default: -1\n",
      "(Optimal value, Runtime, Optimality Gap) 88.83333774364394 1.7703533172607422 2.5672601835120285e-06\n",
      "Changed value of parameter NonConvex to 2\n",
      "   Prev: -1  Min: -1  Max: 2  Default: -1\n",
      "(Optimal value, Runtime, Optimality Gap) 95.42857142857143 0.8614482879638672 0.0\n",
      "Changed value of parameter NonConvex to 2\n",
      "   Prev: -1  Min: -1  Max: 2  Default: -1\n",
      "(Optimal value, Runtime, Optimality Gap) 97.0 0.9811458587646484 0.0\n",
      "Changed value of parameter NonConvex to 2\n",
      "   Prev: -1  Min: -1  Max: 2  Default: -1\n",
      "(Optimal value, Runtime, Optimality Gap) 96.66666666666671 6.199146270751953 0.0\n",
      "Changed value of parameter NonConvex to 2\n",
      "   Prev: -1  Min: -1  Max: 2  Default: -1\n",
      "(Optimal value, Runtime, Optimality Gap) 97.23855421686747 16.073232650756836 0.0\n",
      "Changed value of parameter NonConvex to 2\n",
      "   Prev: -1  Min: -1  Max: 2  Default: -1\n"
     ]
    }
   ],
   "source": [
    "i = 4\n",
    "\n",
    "while(i!=13):\n",
    "    SLMFNE(i)\n",
    "    i = i+1"
   ]
  },
  {
   "cell_type": "code",
   "execution_count": 3,
   "id": "breathing-universe",
   "metadata": {},
   "outputs": [
    {
     "name": "stdout",
     "output_type": "stream",
     "text": [
      "Academic license - for non-commercial use only - expires 2022-10-15\n",
      "Using license file C:\\Users\\Dev\\gurobi.lic\n",
      "Changed value of parameter NonConvex to 2\n",
      "   Prev: -1  Min: -1  Max: 2  Default: -1\n",
      "(Optimal value, Runtime, Optimality Gap) 98.33333333333334 13.523269653320312 0.0\n"
     ]
    }
   ],
   "source": [
    "SLMFNE(12)"
   ]
  },
  {
   "cell_type": "code",
   "execution_count": null,
   "id": "female-script",
   "metadata": {},
   "outputs": [],
   "source": []
  }
 ],
 "metadata": {
  "kernelspec": {
   "display_name": "Python 3",
   "language": "python",
   "name": "python3"
  },
  "language_info": {
   "codemirror_mode": {
    "name": "ipython",
    "version": 3
   },
   "file_extension": ".py",
   "mimetype": "text/x-python",
   "name": "python",
   "nbconvert_exporter": "python",
   "pygments_lexer": "ipython3",
   "version": "3.6.7"
  }
 },
 "nbformat": 4,
 "nbformat_minor": 5
}
